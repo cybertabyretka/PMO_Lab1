{
 "cells": [
  {
   "cell_type": "markdown",
   "id": "fd02c909-e0f3-4b14-a67f-abd4f7459a1e",
   "metadata": {},
   "source": [
    "Основы работы с conda"
   ]
  },
  {
   "cell_type": "markdown",
   "id": "82785b6d-09b9-4ee8-9a17-13dfd9db79bb",
   "metadata": {},
   "source": [
    "conda — это менеджер пакетов и окружений, который часто используется в Data Science и MLOps для управления зависимостями и изоляции проектов.\n",
    "\n",
    "Если у тебя еще не установлен conda, ты можешь установить его, скачав Miniconda #[https://docs.conda.io/en/latest/miniconda.html] или Anaconda [https://www.anaconda.com/download]."
   ]
  },
  {
   "cell_type": "markdown",
   "id": "e670524c-8490-43ca-a83b-eb8167230215",
   "metadata": {},
   "source": [
    "## Основные команды conda\n",
    "### 1. Создание нового окружения:\n",
    "conda create --name test_env python=3.10\n",
    "### 2. Активация окружения:\n",
    "conda activate myenv\n",
    "### 3. Деактивация окружения:\n",
    "conda deactivate\n",
    "### 4. Установка пакетов:\n",
    "conda install numpy pandas\n",
    "### 5. Удаление пакетов:\n",
    "conda remove numpy\n",
    "### 6. Экспорт окружения в файл:\n",
    "conda env export > environment.yml"
   ]
  },
  {
   "cell_type": "code",
   "execution_count": 1,
   "id": "ec6e3861-63f7-4ace-8b00-7b3fbbebe053",
   "metadata": {},
   "outputs": [
    {
     "name": "stdout",
     "output_type": "stream",
     "text": [
      "\n",
      "Microsoft Windows [Version 10.0.19045.5371]\n"
     ]
    }
   ],
   "source": [
    "!ver"
   ]
  },
  {
   "cell_type": "code",
   "execution_count": 2,
   "id": "88b15ceb-734d-4a67-99d8-328275b22df5",
   "metadata": {},
   "outputs": [],
   "source": [
    "#Пример получения списка установленный пакетов в системе и запись в файл list_libs.yml\n",
    "!conda list > list_libs.yml"
   ]
  },
  {
   "cell_type": "code",
   "execution_count": 3,
   "id": "7c5c23c6-2c10-411a-990c-1e8909eab588",
   "metadata": {},
   "outputs": [
    {
     "name": "stdout",
     "output_type": "stream",
     "text": [
      "nbclient                  0.8.0           py312haa95532_0  \n",
      "nbconvert                 7.10.0          py312haa95532_0  \n",
      "nbformat                  5.9.2           py312haa95532_0  \n",
      "nest-asyncio              1.6.0           py312haa95532_0  \n",
      "networkx                  3.4.2                    pypi_0    pypi\n",
      "notebook-shim             0.2.3           py312haa95532_0  \n",
      "numexpr                   2.8.7           py312h96b7d27_0  \n",
      "numpy                     1.26.4          py312hfd52020_0  \n",
      "numpy-base                1.26.4          py312h4dde369_0  \n"
     ]
    }
   ],
   "source": [
    "#Вывод списка библиотек из файла начинающихся на \"n\"\n",
    "!findstr \"^n\" list_libs.yml"
   ]
  },
  {
   "cell_type": "markdown",
   "id": "137a8323-e68c-4514-87ce-46a3b9fa7f1e",
   "metadata": {},
   "source": [
    "## Основные команды pip"
   ]
  },
  {
   "cell_type": "raw",
   "id": "e55a5c34-4fd7-49e3-b682-aa90304f2bc8",
   "metadata": {},
   "source": [
    "1.Выводим список установленный пакетов"
   ]
  },
  {
   "cell_type": "code",
   "execution_count": 4,
   "id": "c64d7fae-9ec6-4c3a-9f48-cea782d38c09",
   "metadata": {
    "scrolled": true
   },
   "outputs": [
    {
     "name": "stdout",
     "output_type": "stream",
     "text": [
      "Package                   Version\n",
      "------------------------- ------------\n",
      "anyio                     4.2.0\n",
      "argon2-cffi               21.3.0\n",
      "argon2-cffi-bindings      21.2.0\n",
      "asttokens                 2.0.5\n",
      "async-lru                 2.0.4\n",
      "attrs                     23.1.0\n",
      "Babel                     2.11.0\n",
      "beautifulsoup4            4.12.2\n",
      "bleach                    4.1.0\n",
      "Bottleneck                1.3.7\n",
      "Brotli                    1.0.9\n",
      "certifi                   2024.2.2\n",
      "cffi                      1.16.0\n",
      "charset-normalizer        2.0.4\n",
      "colorama                  0.4.6\n",
      "comm                      0.2.1\n",
      "contourpy                 1.2.0\n",
      "cycler                    0.11.0\n",
      "Cython                    3.0.10\n",
      "debugpy                   1.6.7\n",
      "decorator                 5.1.1\n",
      "defusedxml                0.7.1\n",
      "executing                 0.8.3\n",
      "fastjsonschema            2.16.2\n",
      "filelock                  3.17.0\n",
      "fonttools                 4.25.0\n",
      "fsspec                    2025.2.0\n",
      "idna                      3.4\n",
      "ipykernel                 6.28.0\n",
      "ipython                   8.20.0\n",
      "jedi                      0.18.1\n",
      "Jinja2                    3.1.3\n",
      "joblib                    1.4.2\n",
      "json5                     0.9.6\n",
      "jsonschema                4.19.2\n",
      "jsonschema-specifications 2023.7.1\n",
      "jupyter_client            8.6.0\n",
      "jupyter_core              5.5.0\n",
      "jupyter-events            0.8.0\n",
      "jupyter-lsp               2.2.0\n",
      "jupyter_server            2.10.0\n",
      "jupyter_server_terminals  0.4.4\n",
      "jupyterlab                4.0.11\n",
      "jupyterlab-pygments       0.1.2\n",
      "jupyterlab_server         2.25.1\n",
      "kiwisolver                1.4.4\n",
      "MarkupSafe                2.1.3\n",
      "matplotlib                3.8.0\n",
      "matplotlib-inline         0.1.6\n",
      "mistune                   2.0.4\n",
      "mkl-fft                   1.3.8\n",
      "mkl-random                1.2.4\n",
      "mkl-service               2.4.0\n",
      "mpmath                    1.3.0\n",
      "munkres                   1.1.4\n",
      "nbclient                  0.8.0\n",
      "nbconvert                 7.10.0\n",
      "nbformat                  5.9.2\n",
      "nest-asyncio              1.6.0\n",
      "networkx                  3.4.2\n",
      "notebook_shim             0.2.3\n",
      "numexpr                   2.8.7\n",
      "numpy                     1.26.4\n",
      "overrides                 7.4.0\n",
      "packaging                 23.1\n",
      "pandas                    2.2.1\n",
      "pandocfilters             1.5.0\n",
      "parso                     0.8.3\n",
      "patsy                     0.5.6\n",
      "pillow                    10.2.0\n",
      "pip                       23.3.1\n",
      "platformdirs              3.10.0\n",
      "ply                       3.11\n",
      "pmdarima                  2.0.4\n",
      "prometheus-client         0.14.1\n",
      "prompt-toolkit            3.0.43\n",
      "psutil                    5.9.0\n",
      "pure-eval                 0.2.2\n",
      "pycparser                 2.21\n",
      "Pygments                  2.15.1\n",
      "pyparsing                 3.0.9\n",
      "PyQt5                     5.15.10\n",
      "PyQt5-sip                 12.13.0\n",
      "PySocks                   1.7.1\n",
      "python-dateutil           2.8.2\n",
      "python-json-logger        2.0.7\n",
      "pytz                      2023.3.post1\n",
      "pywin32                   305.1\n",
      "pywinpty                  2.0.10\n",
      "PyYAML                    6.0.1\n",
      "pyzmq                     25.1.2\n",
      "referencing               0.30.2\n",
      "requests                  2.31.0\n",
      "rfc3339-validator         0.1.4\n",
      "rfc3986-validator         0.1.1\n",
      "rpds-py                   0.10.6\n",
      "scikit-base               0.7.8\n",
      "scikit-learn              1.4.2\n",
      "scipy                     1.13.1\n",
      "seaborn                   0.12.2\n",
      "Send2Trash                1.8.2\n",
      "setuptools                68.2.2\n",
      "sip                       6.7.12\n",
      "six                       1.16.0\n",
      "sktime                    0.29.0\n",
      "sniffio                   1.3.0\n",
      "soupsieve                 2.5\n",
      "stack-data                0.2.0\n",
      "statsmodels               0.14.2\n",
      "sympy                     1.13.1\n",
      "tdqm                      0.0.1\n",
      "terminado                 0.17.1\n",
      "threadpoolctl             3.5.0\n",
      "tinycss2                  1.2.1\n",
      "torch                     2.6.0\n",
      "torchvision               0.21.0\n",
      "tornado                   6.3.3\n",
      "tqdm                      4.67.1\n",
      "traitlets                 5.7.1\n",
      "typing_extensions         4.12.2\n",
      "tzdata                    2023.3\n",
      "urllib3                   2.1.0\n",
      "wcwidth                   0.2.5\n",
      "webencodings              0.5.1\n",
      "websocket-client          0.58.0\n",
      "wheel                     0.41.2\n",
      "win-inet-pton             1.1.0\n"
     ]
    }
   ],
   "source": [
    "!pip list "
   ]
  },
  {
   "cell_type": "raw",
   "id": "fc2256fa-b87e-45c3-bbc4-70f1e50850a4",
   "metadata": {},
   "source": [
    "2. Информация о выбранном пакете"
   ]
  },
  {
   "cell_type": "code",
   "execution_count": 5,
   "id": "13b9eac2-a68b-4b17-84ff-41c8adc7a553",
   "metadata": {
    "scrolled": true
   },
   "outputs": [
    {
     "name": "stdout",
     "output_type": "stream",
     "text": [
      "Name: numpy\n",
      "Version: 1.26.4\n",
      "Summary: Fundamental package for array computing in Python\n",
      "Home-page: https://numpy.org\n",
      "Author: Travis E. Oliphant et al.\n",
      "Author-email: \n",
      "License: Copyright (c) 2005-2023, NumPy Developers.\n",
      "All rights reserved.\n",
      "\n",
      "Redistribution and use in source and binary forms, with or without\n",
      "modification, are permitted provided that the following conditions are\n",
      "met:\n",
      "\n",
      "    * Redistributions of source code must retain the above copyright\n",
      "       notice, this list of conditions and the following disclaimer.\n",
      "\n",
      "    * Redistributions in binary form must reproduce the above\n",
      "       copyright notice, this list of conditions and the following\n",
      "       disclaimer in the documentation and/or other materials provided\n",
      "       with the distribution.\n",
      "\n",
      "    * Neither the name of the NumPy Developers nor the names of any\n",
      "       contributors may be used to endorse or promote products derived\n",
      "       from this software without specific prior written permission.\n",
      "\n",
      "THIS SOFTWARE IS PROVIDED BY THE COPYRIGHT HOLDERS AND CONTRIBUTORS\n",
      "\"AS IS\" AND ANY EXPRESS OR IMPLIED WARRANTIES, INCLUDING, BUT NOT\n",
      "LIMITED TO, THE IMPLIED WARRANTIES OF MERCHANTABILITY AND FITNESS FOR\n",
      "A PARTICULAR PURPOSE ARE DISCLAIMED. IN NO EVENT SHALL THE COPYRIGHT\n",
      "OWNER OR CONTRIBUTORS BE LIABLE FOR ANY DIRECT, INDIRECT, INCIDENTAL,\n",
      "SPECIAL, EXEMPLARY, OR CONSEQUENTIAL DAMAGES (INCLUDING, BUT NOT\n",
      "LIMITED TO, PROCUREMENT OF SUBSTITUTE GOODS OR SERVICES; LOSS OF USE,\n",
      "DATA, OR PROFITS; OR BUSINESS INTERRUPTION) HOWEVER CAUSED AND ON ANY\n",
      "THEORY OF LIABILITY, WHETHER IN CONTRACT, STRICT LIABILITY, OR TORT\n",
      "(INCLUDING NEGLIGENCE OR OTHERWISE) ARISING IN ANY WAY OUT OF THE USE\n",
      "OF THIS SOFTWARE, EVEN IF ADVISED OF THE POSSIBILITY OF SUCH DAMAGE.\n",
      "Location: C:\\Users\\333\\anaconda3\\envs\\numpy\\Lib\\site-packages\n",
      "Requires: \n",
      "Required-by: Bottleneck, contourpy, matplotlib, mkl-fft, mkl-random, numexpr, pandas, patsy, pmdarima, scikit-learn, scipy, seaborn, sktime, statsmodels, torchvision\n"
     ]
    }
   ],
   "source": [
    "!pip show numpy"
   ]
  },
  {
   "cell_type": "raw",
   "id": "dc61cebd-3950-45f1-a9e6-e342a04ebad3",
   "metadata": {},
   "source": [
    "3. Информация о процессоре"
   ]
  },
  {
   "cell_type": "code",
   "execution_count": 6,
   "id": "76b1b821-0ed0-416e-a0e1-a3026f9f86f2",
   "metadata": {},
   "outputs": [
    {
     "name": "stdout",
     "output_type": "stream",
     "text": [
      "Name                                       NumberOfCores  NumberOfLogicalProcessors  \n",
      "\n",
      "Intel(R) Core(TM) i5-10300H CPU @ 2.50GHz  4              8                          \n",
      "\n",
      "\n",
      "\n"
     ]
    }
   ],
   "source": [
    "!wmic cpu get name, numberofcores, numberoflogicalprocessors"
   ]
  },
  {
   "cell_type": "markdown",
   "id": "9ba93bfd-6a28-40cb-9065-bc10108a3ec5",
   "metadata": {},
   "source": [
    "### Библиотека Pytorch\n",
    "PyTorch — это библиотека для машинного обучения, предназначенная для построения архитектур нейронных сетей и обучения."
   ]
  },
  {
   "cell_type": "code",
   "execution_count": 7,
   "id": "ed45887a-4d8c-4015-8e2d-ec13bcdb3fb0",
   "metadata": {},
   "outputs": [],
   "source": [
    "import torch"
   ]
  },
  {
   "cell_type": "code",
   "execution_count": 8,
   "id": "9e962e44-d2f3-4a03-a0d1-ed0d00f7ef85",
   "metadata": {},
   "outputs": [
    {
     "data": {
      "text/plain": [
       "tensor([4., 0., 4.])"
      ]
     },
     "execution_count": 8,
     "metadata": {},
     "output_type": "execute_result"
    }
   ],
   "source": [
    "a = torch.tensor([1.,2,3])\n",
    "b = torch.tensor([3,-2,1])\n",
    "c = a + b\n",
    "c"
   ]
  },
  {
   "cell_type": "code",
   "execution_count": 9,
   "id": "e4ca1d9b-fce2-4d91-9638-9581f6a5b310",
   "metadata": {},
   "outputs": [
    {
     "data": {
      "text/plain": [
       "False"
      ]
     },
     "execution_count": 9,
     "metadata": {},
     "output_type": "execute_result"
    }
   ],
   "source": [
    "torch.cuda.is_available()"
   ]
  },
  {
   "cell_type": "code",
   "execution_count": 10,
   "id": "a0049f6f-26a9-4002-a209-c1ccda0b3234",
   "metadata": {},
   "outputs": [
    {
     "name": "stdout",
     "output_type": "stream",
     "text": [
      "tensor([1.3333, 2.6667, 4.0000])\n"
     ]
    }
   ],
   "source": [
    "a = torch.tensor([1.,2,3], requires_grad=True)\n",
    "b = a + 2\n",
    "c = a * a * 2\n",
    "c = c.mean()\n",
    "c.backward()  # Вычисляет градиенты\n",
    "print(a.grad)"
   ]
  },
  {
   "cell_type": "markdown",
   "id": "860c1d62-cfa4-46ed-9e51-0b7feef3c2c1",
   "metadata": {},
   "source": [
    "### Пример обучения нейронной сети для изображений"
   ]
  },
  {
   "cell_type": "code",
   "execution_count": 11,
   "id": "4a2558e2-a5e2-4050-ae34-fbeacdb0beed",
   "metadata": {},
   "outputs": [],
   "source": [
    "import torch.nn as nn\n",
    "import torch.nn.functional as F\n",
    "from torch.utils.data import Dataset, DataLoader\n",
    "from torchvision import transforms\n",
    "from torchvision.datasets import MNIST\n",
    "import matplotlib.pyplot as plt\n",
    "\n",
    "#Пример построения графа нейросети с полносвязнными слоями\n",
    "class Net(nn.Module):\n",
    "    def __init__(self):\n",
    "        super(Net, self).__init__()\n",
    "        self.fc1 = nn.Linear(16 * 5 * 5, 120)\n",
    "        self.fc2 = nn.Linear(120, 84)\n",
    "        self.fc3 = nn.Linear(84, 10)\n",
    "\n",
    "    def forward(self, x):\n",
    "        x = F.relu(self.fc1(x))\n",
    "        x = F.relu(self.fc2(x))\n",
    "        x = self.fc3(x)\n",
    "        return x\n",
    "\n",
    "model = Net()"
   ]
  },
  {
   "cell_type": "code",
   "execution_count": 12,
   "id": "41e58d1f-442e-423d-be39-1770b0747bc1",
   "metadata": {},
   "outputs": [
    {
     "name": "stdout",
     "output_type": "stream",
     "text": [
      "torch.Size([1, 10])\n"
     ]
    }
   ],
   "source": [
    "import torch\n",
    "import torch.nn as nn\n",
    "import torch.nn.functional as F\n",
    "from tqdm import tqdm\n",
    "\n",
    "class PatchEmbedding(nn.Module):\n",
    "    def __init__(self, img_size, patch_size, in_channels, embed_dim):\n",
    "        super(PatchEmbedding, self).__init__()\n",
    "        self.patch_size = patch_size\n",
    "        self.proj = nn.Conv2d(in_channels, embed_dim, kernel_size=patch_size, stride=patch_size)\n",
    "\n",
    "    def forward(self, x):\n",
    "        x = self.proj(x)  # (B, C, H, W) -> (B, embed_dim, H/patch_size, W/patch_size)\n",
    "        x = x.flatten(2)  # (B, embed_dim, H/patch_size * W/patch_size)\n",
    "        x = x.transpose(1, 2)  # (B, H/patch_size * W/patch_size, embed_dim)\n",
    "        return x\n",
    "\n",
    "class MultiHeadAttention(nn.Module):\n",
    "    def __init__(self, embed_dim, num_heads):\n",
    "        super(MultiHeadAttention, self).__init__()\n",
    "        assert embed_dim % num_heads == 0\n",
    "\n",
    "        self.embed_dim = embed_dim\n",
    "        self.num_heads = num_heads\n",
    "        self.head_dim = embed_dim // num_heads\n",
    "\n",
    "        self.query_linear = nn.Linear(embed_dim, embed_dim)\n",
    "        self.key_linear = nn.Linear(embed_dim, embed_dim)\n",
    "        self.value_linear = nn.Linear(embed_dim, embed_dim)\n",
    "        self.out_linear = nn.Linear(embed_dim, embed_dim)\n",
    "\n",
    "    def attention(self, query, key, value, mask=None):\n",
    "        scores = torch.matmul(query, key.transpose(-2, -1)) / torch.sqrt(torch.tensor(self.head_dim, dtype=torch.float32))\n",
    "        if mask is not None:\n",
    "            scores = scores.masked_fill(mask == 0, -1e9)\n",
    "        attn = F.softmax(scores, dim=-1)\n",
    "        context = torch.matmul(attn, value)\n",
    "        return context, attn\n",
    "\n",
    "    def forward(self, x):\n",
    "        batch_size = x.size(0)\n",
    "\n",
    "        query = self.query_linear(x).view(batch_size, -1, self.num_heads, self.head_dim).transpose(1, 2)\n",
    "        key = self.key_linear(x).view(batch_size, -1, self.num_heads, self.head_dim).transpose(1, 2)\n",
    "        value = self.value_linear(x).view(batch_size, -1, self.num_heads, self.head_dim).transpose(1, 2)\n",
    "\n",
    "        context, _ = self.attention(query, key, value)\n",
    "        context = context.transpose(1, 2).contiguous().view(batch_size, -1, self.embed_dim)\n",
    "        return self.out_linear(context)\n",
    "\n",
    "class FeedForward(nn.Module):\n",
    "    def __init__(self, embed_dim, hidden_dim, dropout=0.1):\n",
    "        super(FeedForward, self).__init__()\n",
    "        self.linear1 = nn.Linear(embed_dim, hidden_dim)\n",
    "        self.dropout = nn.Dropout(dropout)\n",
    "        self.linear2 = nn.Linear(hidden_dim, embed_dim)\n",
    "\n",
    "    def forward(self, x):\n",
    "        return self.linear2(self.dropout(F.relu(self.linear1(x))))\n",
    "\n",
    "class TransformerLayer(nn.Module):\n",
    "    def __init__(self, embed_dim, num_heads, hidden_dim, dropout=0.1):\n",
    "        super(TransformerLayer, self).__init__()\n",
    "        self.attn = MultiHeadAttention(embed_dim, num_heads)\n",
    "        self.ff = FeedForward(embed_dim, hidden_dim, dropout)\n",
    "        self.norm1 = nn.LayerNorm(embed_dim)\n",
    "        self.norm2 = nn.LayerNorm(embed_dim)\n",
    "        self.dropout = nn.Dropout(dropout)\n",
    "\n",
    "    def forward(self, x):\n",
    "        attn_output = self.attn(x)\n",
    "        out1 = self.norm1(x + self.dropout(attn_output))\n",
    "        ff_output = self.ff(out1)\n",
    "        out2 = self.norm2(out1 + self.dropout(ff_output))\n",
    "        return out2\n",
    "\n",
    "class VisionTransformer(nn.Module):\n",
    "    def __init__(self, img_size, patch_size, in_channels, embed_dim, num_heads, hidden_dim, num_layers, num_classes, dropout=0.1):\n",
    "        super(VisionTransformer, self).__init__()\n",
    "        self.patch_embed = PatchEmbedding(img_size, patch_size, in_channels, embed_dim)\n",
    "        self.layers = nn.ModuleList([\n",
    "            TransformerLayer(embed_dim, num_heads, hidden_dim, dropout)\n",
    "            for _ in range(num_layers)\n",
    "        ])\n",
    "        self.linear = nn.Linear(embed_dim, num_classes)\n",
    "\n",
    "    def forward(self, x):\n",
    "        x = self.patch_embed(x)\n",
    "        for layer in self.layers:\n",
    "            x = layer(x)\n",
    "        x = x.mean(dim=1)  # Усреднение по последовательности\n",
    "        return self.linear(x)\n",
    "\n",
    "# Пример использования\n",
    "img_size = 28\n",
    "patch_size = 8\n",
    "in_channels = 1  # Для черно-белых изображений\n",
    "embed_dim = 14\n",
    "num_heads = 2\n",
    "hidden_dim = 6\n",
    "num_layers = 1\n",
    "num_classes = 10  # Например, для классификации цифр от 0 до 9\n",
    "dropout = 0.1\n",
    "\n",
    "model = VisionTransformer(img_size, patch_size, in_channels, embed_dim, num_heads, hidden_dim, num_layers, num_classes, dropout)\n",
    "\n",
    "# Пример входных данных\n",
    "x = torch.rand(1, in_channels, img_size, img_size)  # Батч из 32 изображений размером 28x28\n",
    "\n",
    "output = model(x)\n",
    "print(output.shape)  # Выходной тензор"
   ]
  },
  {
   "cell_type": "code",
   "execution_count": 13,
   "id": "1f19479f-4bba-438e-9b3a-132b8cdb1171",
   "metadata": {},
   "outputs": [],
   "source": [
    "transform=transforms.Compose([\n",
    "    transforms.ToTensor(),\n",
    "    transforms.Normalize((0.1307,), (0.3081,))\n",
    "    ])\n",
    "dataset1 = MNIST('../data', train=True, download=True,\n",
    "                   transform=transform)\n",
    "dataset2 = MNIST('../data', train=False,\n",
    "                   transform=transform)\n",
    "train_loader = torch.utils.data.DataLoader(dataset1,)\n",
    "test_loader = torch.utils.data.DataLoader(dataset2)"
   ]
  },
  {
   "cell_type": "code",
   "execution_count": 14,
   "id": "ae7231cb-3790-4a2f-980b-b65c801697a9",
   "metadata": {},
   "outputs": [
    {
     "name": "stdout",
     "output_type": "stream",
     "text": [
      "torch.Size([1, 1, 28, 28]) torch.Size([1])\n"
     ]
    }
   ],
   "source": [
    "inputs, labels = next(iter(train_loader)) \n",
    "print(inputs.shape, labels.shape)"
   ]
  },
  {
   "cell_type": "code",
   "execution_count": 15,
   "id": "baa92c47-7567-4c36-b321-21b7bf26351a",
   "metadata": {},
   "outputs": [],
   "source": [
    "criterion = nn.CrossEntropyLoss()\n",
    "optimizer = torch.optim.SGD(model.parameters(), lr=0.005, momentum=0.9)"
   ]
  },
  {
   "cell_type": "code",
   "execution_count": 16,
   "id": "f26ac36f-eae8-4feb-97fd-f302f6d06bb8",
   "metadata": {},
   "outputs": [
    {
     "name": "stderr",
     "output_type": "stream",
     "text": [
      "  7%|█████▌                                                                             | 1/15 [00:27<06:23, 27.36s/it]"
     ]
    },
    {
     "name": "stdout",
     "output_type": "stream",
     "text": [
      "Accuracy: 41%)\n",
      "\n"
     ]
    },
    {
     "name": "stderr",
     "output_type": "stream",
     "text": [
      " 13%|███████████                                                                        | 2/15 [00:53<05:44, 26.52s/it]"
     ]
    },
    {
     "name": "stdout",
     "output_type": "stream",
     "text": [
      "Accuracy: 36%)\n",
      "\n"
     ]
    },
    {
     "name": "stderr",
     "output_type": "stream",
     "text": [
      " 20%|████████████████▌                                                                  | 3/15 [01:19<05:15, 26.32s/it]"
     ]
    },
    {
     "name": "stdout",
     "output_type": "stream",
     "text": [
      "Accuracy: 36%)\n",
      "\n"
     ]
    },
    {
     "name": "stderr",
     "output_type": "stream",
     "text": [
      " 27%|██████████████████████▏                                                            | 4/15 [01:45<04:48, 26.22s/it]"
     ]
    },
    {
     "name": "stdout",
     "output_type": "stream",
     "text": [
      "Accuracy: 40%)\n",
      "\n"
     ]
    },
    {
     "name": "stderr",
     "output_type": "stream",
     "text": [
      " 33%|███████████████████████████▋                                                       | 5/15 [02:11<04:22, 26.23s/it]"
     ]
    },
    {
     "name": "stdout",
     "output_type": "stream",
     "text": [
      "Accuracy: 44%)\n",
      "\n"
     ]
    },
    {
     "name": "stderr",
     "output_type": "stream",
     "text": [
      " 40%|█████████████████████████████████▏                                                 | 6/15 [02:38<03:56, 26.30s/it]"
     ]
    },
    {
     "name": "stdout",
     "output_type": "stream",
     "text": [
      "Accuracy: 46%)\n",
      "\n"
     ]
    },
    {
     "name": "stderr",
     "output_type": "stream",
     "text": [
      " 47%|██████████████████████████████████████▋                                            | 7/15 [03:05<03:33, 26.64s/it]"
     ]
    },
    {
     "name": "stdout",
     "output_type": "stream",
     "text": [
      "Accuracy: 39%)\n",
      "\n"
     ]
    },
    {
     "name": "stderr",
     "output_type": "stream",
     "text": [
      " 53%|████████████████████████████████████████████▎                                      | 8/15 [03:36<03:16, 28.11s/it]"
     ]
    },
    {
     "name": "stdout",
     "output_type": "stream",
     "text": [
      "Accuracy: 35%)\n",
      "\n"
     ]
    },
    {
     "name": "stderr",
     "output_type": "stream",
     "text": [
      " 60%|█████████████████████████████████████████████████▊                                 | 9/15 [04:07<02:53, 28.95s/it]"
     ]
    },
    {
     "name": "stdout",
     "output_type": "stream",
     "text": [
      "Accuracy: 39%)\n",
      "\n"
     ]
    },
    {
     "name": "stderr",
     "output_type": "stream",
     "text": [
      " 67%|██████████████████████████████████████████████████████▋                           | 10/15 [04:46<02:40, 32.08s/it]"
     ]
    },
    {
     "name": "stdout",
     "output_type": "stream",
     "text": [
      "Accuracy: 42%)\n",
      "\n"
     ]
    },
    {
     "name": "stderr",
     "output_type": "stream",
     "text": [
      " 73%|████████████████████████████████████████████████████████████▏                     | 11/15 [05:26<02:17, 34.47s/it]"
     ]
    },
    {
     "name": "stdout",
     "output_type": "stream",
     "text": [
      "Accuracy: 42%)\n",
      "\n"
     ]
    },
    {
     "name": "stderr",
     "output_type": "stream",
     "text": [
      " 80%|█████████████████████████████████████████████████████████████████▌                | 12/15 [05:58<01:41, 33.83s/it]"
     ]
    },
    {
     "name": "stdout",
     "output_type": "stream",
     "text": [
      "Accuracy: 44%)\n",
      "\n"
     ]
    },
    {
     "name": "stderr",
     "output_type": "stream",
     "text": [
      " 87%|███████████████████████████████████████████████████████████████████████           | 13/15 [06:32<01:07, 33.71s/it]"
     ]
    },
    {
     "name": "stdout",
     "output_type": "stream",
     "text": [
      "Accuracy: 45%)\n",
      "\n"
     ]
    },
    {
     "name": "stderr",
     "output_type": "stream",
     "text": [
      " 93%|████████████████████████████████████████████████████████████████████████████▌     | 14/15 [07:07<00:34, 34.31s/it]"
     ]
    },
    {
     "name": "stdout",
     "output_type": "stream",
     "text": [
      "Accuracy: 46%)\n",
      "\n"
     ]
    },
    {
     "name": "stderr",
     "output_type": "stream",
     "text": [
      "100%|██████████████████████████████████████████████████████████████████████████████████| 15/15 [07:44<00:00, 30.97s/it]"
     ]
    },
    {
     "name": "stdout",
     "output_type": "stream",
     "text": [
      "Accuracy: 47%)\n",
      "\n"
     ]
    },
    {
     "name": "stderr",
     "output_type": "stream",
     "text": [
      "\n"
     ]
    }
   ],
   "source": [
    "for epoch in tqdm(range(15)):  # Количество эпох\n",
    "    correct = 0\n",
    "    for data in test_loader:  # Итерация по данным\n",
    "        inputs, labels = data\n",
    "        optimizer.zero_grad()  # Обнуление градиентов\n",
    "        outputs = model(inputs)  # Прямой проход\n",
    "        loss = criterion(outputs, labels)  # Вычисление потерь\n",
    "        \n",
    "        loss.backward()  # Обратный проход\n",
    "        optimizer.step()  # Обновление весов\n",
    "        pred = outputs.argmax(dim=1, keepdim=True)\n",
    "        correct += pred.eq(labels).item()\n",
    "    print('Accuracy: {:.0f}%)\\n'.format(correct/len(test_loader)*100))"
   ]
  },
  {
   "cell_type": "code",
   "execution_count": 17,
   "id": "dc23c873-b711-4aac-886c-bf972989cf4c",
   "metadata": {},
   "outputs": [
    {
     "data": {
      "text/plain": [
       "(tensor(6), 6)"
      ]
     },
     "execution_count": 17,
     "metadata": {},
     "output_type": "execute_result"
    }
   ],
   "source": [
    "number = 100\n",
    "test_img, test_label = test_loader.dataset[number]\n",
    "test_img = test_img.unsqueeze(0)\n",
    "torch.argmax(model(test_img)), test_label"
   ]
  },
  {
   "cell_type": "code",
   "execution_count": 18,
   "id": "56cc867b-e9c2-4b3a-935f-21da3ed811dd",
   "metadata": {},
   "outputs": [
    {
     "name": "stdout",
     "output_type": "stream",
     "text": [
      "Pred = 7, Label = 7\n",
      "Pred = 6, Label = 2\n",
      "Pred = 1, Label = 1\n",
      "Pred = 6, Label = 0\n",
      "Pred = 7, Label = 4\n",
      "Pred = 1, Label = 1\n",
      "Pred = 0, Label = 4\n",
      "Pred = 9, Label = 9\n",
      "Pred = 6, Label = 5\n",
      "Pred = 4, Label = 9\n",
      "Pred = 3, Label = 0\n",
      "Pred = 6, Label = 6\n",
      "Pred = 4, Label = 9\n",
      "Pred = 7, Label = 0\n",
      "Pred = 1, Label = 1\n"
     ]
    }
   ],
   "source": [
    "#посмотрим как модель предсказывает цифры\n",
    "for number in range(15):\n",
    "    test_img, test_label = test_loader.dataset[number]\n",
    "    test_img = test_img.unsqueeze(0)\n",
    "    print(f\"Pred = {torch.argmax(model(test_img))}, Label = {test_label}\")"
   ]
  },
  {
   "cell_type": "markdown",
   "id": "01e1fd3e-ec6a-4ae1-8f15-06f27b653ce4",
   "metadata": {},
   "source": [
    "## Визуализация прогнозов модели"
   ]
  },
  {
   "cell_type": "code",
   "execution_count": 12,
   "id": "aa3000e0-33ed-43b2-9aaa-74472c787b8a",
   "metadata": {},
   "outputs": [
    {
     "ename": "NameError",
     "evalue": "name 'test_loader' is not defined",
     "output_type": "error",
     "traceback": [
      "\u001b[1;31m---------------------------------------------------------------------------\u001b[0m",
      "\u001b[1;31mNameError\u001b[0m                                 Traceback (most recent call last)",
      "Cell \u001b[1;32mIn[12], line 4\u001b[0m\n\u001b[0;32m      2\u001b[0m fig, ax \u001b[38;5;241m=\u001b[39m plt\u001b[38;5;241m.\u001b[39msubplots(\u001b[38;5;241m1\u001b[39m,\u001b[38;5;241m8\u001b[39m)\n\u001b[0;32m      3\u001b[0m \u001b[38;5;28;01mfor\u001b[39;00m number \u001b[38;5;129;01min\u001b[39;00m \u001b[38;5;28mrange\u001b[39m(\u001b[38;5;241m8\u001b[39m):\n\u001b[1;32m----> 4\u001b[0m     test_img, test_label \u001b[38;5;241m=\u001b[39m test_loader\u001b[38;5;241m.\u001b[39mdataset[number]\n\u001b[0;32m      5\u001b[0m     test_img \u001b[38;5;241m=\u001b[39m test_img\u001b[38;5;241m.\u001b[39munsqueeze(\u001b[38;5;241m0\u001b[39m)\n\u001b[0;32m      6\u001b[0m     pred \u001b[38;5;241m=\u001b[39m torch\u001b[38;5;241m.\u001b[39margmax(model(test_img))\n",
      "\u001b[1;31mNameError\u001b[0m: name 'test_loader' is not defined"
     ]
    },
    {
     "data": {
      "image/png": "[encoded data removed]",
      "text/plain": [
       "<Figure size 640x480 with 8 Axes>"
      ]
     },
     "metadata": {},
     "output_type": "display_data"
    }
   ],
   "source": [
    "#У меня на этой клетке отключается ядро, так что не получается её выполнить\n",
    "fig, ax = plt.subplots(1,8)\n",
    "for number in range(8):\n",
    "    test_img, test_label = test_loader.dataset[number]\n",
    "    test_img = test_img.unsqueeze(0)\n",
    "    pred = torch.argmax(model(test_img))\n",
    "    ax[number].imshow(test_img[0][0].numpy())\n",
    "    ax[number].set_title(f\"P = {pred}\")"
   ]
  },
  {
   "cell_type": "markdown",
   "id": "89eb827d-8a57-4253-96e2-c5c38e2a7696",
   "metadata": {},
   "source": [
    "### Обучение модели линеной регрессии"
   ]
  },
  {
   "cell_type": "code",
   "execution_count": 1,
   "id": "58569ba0-9c2b-4cbb-8869-073259d1279b",
   "metadata": {},
   "outputs": [],
   "source": [
    "import pandas as pd\n",
    "from sklearn.model_selection import train_test_split\n",
    "from sklearn.preprocessing import StandardScaler, OrdinalEncoder, OneHotEncoder, PowerTransformer\n",
    "from sklearn.pipeline import Pipeline\n",
    "from sklearn.compose import ColumnTransformer # т.н. преобразователь колонок\n",
    "from sklearn.linear_model import SGDRegressor\n",
    "from sklearn.metrics import root_mean_squared_error\n",
    "import numpy as np\n",
    "import matplotlib.pyplot as plt\n",
    "import pickle"
   ]
  },
  {
   "cell_type": "code",
   "execution_count": null,
   "id": "7c154212-eef8-476e-b637-ae895d1a7107",
   "metadata": {},
   "outputs": [],
   "source": [
    "#В качестве набора данных используется история продаж автомобилей. Для целевой переменной используем Price(euro) - стоимость авто"
   ]
  },
  {
   "cell_type": "code",
   "execution_count": 3,
   "id": "a773f73a-ee2e-4868-acda-f5fd2b3b49c4",
   "metadata": {},
   "outputs": [
    {
     "data": {
      "text/html": [
       "<div>\n",
       "<style scoped>\n",
       "    .dataframe tbody tr th:only-of-type {\n",
       "        vertical-align: middle;\n",
       "    }\n",
       "\n",
       "    .dataframe tbody tr th {\n",
       "        vertical-align: top;\n",
       "    }\n",
       "\n",
       "    .dataframe thead th {\n",
       "        text-align: right;\n",
       "    }\n",
       "</style>\n",
       "<table border=\"1\" class=\"dataframe\">\n",
       "  <thead>\n",
       "    <tr style=\"text-align: right;\">\n",
       "      <th></th>\n",
       "      <th>Make</th>\n",
       "      <th>Model</th>\n",
       "      <th>Year</th>\n",
       "      <th>Style</th>\n",
       "      <th>Distance</th>\n",
       "      <th>Engine_capacity(cm3)</th>\n",
       "      <th>Fuel_type</th>\n",
       "      <th>Transmission</th>\n",
       "      <th>Price(euro)</th>\n",
       "    </tr>\n",
       "  </thead>\n",
       "  <tbody>\n",
       "    <tr>\n",
       "      <th>0</th>\n",
       "      <td>Toyota</td>\n",
       "      <td>Prius</td>\n",
       "      <td>2011</td>\n",
       "      <td>Hatchback</td>\n",
       "      <td>195000.0</td>\n",
       "      <td>1800.0</td>\n",
       "      <td>Hybrid</td>\n",
       "      <td>Automatic</td>\n",
       "      <td>7750.0</td>\n",
       "    </tr>\n",
       "    <tr>\n",
       "      <th>1</th>\n",
       "      <td>Renault</td>\n",
       "      <td>Grand Scenic</td>\n",
       "      <td>2014</td>\n",
       "      <td>Universal</td>\n",
       "      <td>135000.0</td>\n",
       "      <td>1500.0</td>\n",
       "      <td>Diesel</td>\n",
       "      <td>Manual</td>\n",
       "      <td>8550.0</td>\n",
       "    </tr>\n",
       "    <tr>\n",
       "      <th>2</th>\n",
       "      <td>Volkswagen</td>\n",
       "      <td>Golf</td>\n",
       "      <td>1998</td>\n",
       "      <td>Hatchback</td>\n",
       "      <td>1.0</td>\n",
       "      <td>1400.0</td>\n",
       "      <td>Petrol</td>\n",
       "      <td>Manual</td>\n",
       "      <td>2200.0</td>\n",
       "    </tr>\n",
       "    <tr>\n",
       "      <th>3</th>\n",
       "      <td>Renault</td>\n",
       "      <td>Laguna</td>\n",
       "      <td>2012</td>\n",
       "      <td>Universal</td>\n",
       "      <td>110000.0</td>\n",
       "      <td>1500.0</td>\n",
       "      <td>Diesel</td>\n",
       "      <td>Manual</td>\n",
       "      <td>6550.0</td>\n",
       "    </tr>\n",
       "    <tr>\n",
       "      <th>4</th>\n",
       "      <td>Opel</td>\n",
       "      <td>Astra</td>\n",
       "      <td>2006</td>\n",
       "      <td>Universal</td>\n",
       "      <td>200000.0</td>\n",
       "      <td>1600.0</td>\n",
       "      <td>Metan/Propan</td>\n",
       "      <td>Manual</td>\n",
       "      <td>4100.0</td>\n",
       "    </tr>\n",
       "    <tr>\n",
       "      <th>...</th>\n",
       "      <td>...</td>\n",
       "      <td>...</td>\n",
       "      <td>...</td>\n",
       "      <td>...</td>\n",
       "      <td>...</td>\n",
       "      <td>...</td>\n",
       "      <td>...</td>\n",
       "      <td>...</td>\n",
       "      <td>...</td>\n",
       "    </tr>\n",
       "    <tr>\n",
       "      <th>37259</th>\n",
       "      <td>Land Rover</td>\n",
       "      <td>Freelander</td>\n",
       "      <td>2002</td>\n",
       "      <td>Crossover</td>\n",
       "      <td>225000.0</td>\n",
       "      <td>1800.0</td>\n",
       "      <td>Metan/Propan</td>\n",
       "      <td>Manual</td>\n",
       "      <td>4400.0</td>\n",
       "    </tr>\n",
       "    <tr>\n",
       "      <th>37260</th>\n",
       "      <td>Dacia</td>\n",
       "      <td>Logan Mcv</td>\n",
       "      <td>2015</td>\n",
       "      <td>Universal</td>\n",
       "      <td>89000.0</td>\n",
       "      <td>1500.0</td>\n",
       "      <td>Diesel</td>\n",
       "      <td>Manual</td>\n",
       "      <td>7000.0</td>\n",
       "    </tr>\n",
       "    <tr>\n",
       "      <th>37261</th>\n",
       "      <td>Renault</td>\n",
       "      <td>Modus</td>\n",
       "      <td>2009</td>\n",
       "      <td>Hatchback</td>\n",
       "      <td>225.0</td>\n",
       "      <td>1500.0</td>\n",
       "      <td>Diesel</td>\n",
       "      <td>Manual</td>\n",
       "      <td>4500.0</td>\n",
       "    </tr>\n",
       "    <tr>\n",
       "      <th>37262</th>\n",
       "      <td>Mazda</td>\n",
       "      <td>6</td>\n",
       "      <td>2006</td>\n",
       "      <td>Combi</td>\n",
       "      <td>370000.0</td>\n",
       "      <td>2000.0</td>\n",
       "      <td>Diesel</td>\n",
       "      <td>Manual</td>\n",
       "      <td>4000.0</td>\n",
       "    </tr>\n",
       "    <tr>\n",
       "      <th>37263</th>\n",
       "      <td>Renault</td>\n",
       "      <td>Grand Scenic</td>\n",
       "      <td>2006</td>\n",
       "      <td>Minivan</td>\n",
       "      <td>300000.0</td>\n",
       "      <td>1500.0</td>\n",
       "      <td>Diesel</td>\n",
       "      <td>Manual</td>\n",
       "      <td>4000.0</td>\n",
       "    </tr>\n",
       "  </tbody>\n",
       "</table>\n",
       "<p>37264 rows × 9 columns</p>\n",
       "</div>"
      ],
      "text/plain": [
       "             Make         Model  Year      Style  Distance  \\\n",
       "0          Toyota         Prius  2011  Hatchback  195000.0   \n",
       "1         Renault  Grand Scenic  2014  Universal  135000.0   \n",
       "2      Volkswagen          Golf  1998  Hatchback       1.0   \n",
       "3         Renault        Laguna  2012  Universal  110000.0   \n",
       "4            Opel         Astra  2006  Universal  200000.0   \n",
       "...           ...           ...   ...        ...       ...   \n",
       "37259  Land Rover    Freelander  2002  Crossover  225000.0   \n",
       "37260       Dacia     Logan Mcv  2015  Universal   89000.0   \n",
       "37261     Renault         Modus  2009  Hatchback     225.0   \n",
       "37262       Mazda             6  2006      Combi  370000.0   \n",
       "37263     Renault  Grand Scenic  2006    Minivan  300000.0   \n",
       "\n",
       "       Engine_capacity(cm3)     Fuel_type Transmission  Price(euro)  \n",
       "0                    1800.0        Hybrid    Automatic       7750.0  \n",
       "1                    1500.0        Diesel       Manual       8550.0  \n",
       "2                    1400.0        Petrol       Manual       2200.0  \n",
       "3                    1500.0        Diesel       Manual       6550.0  \n",
       "4                    1600.0  Metan/Propan       Manual       4100.0  \n",
       "...                     ...           ...          ...          ...  \n",
       "37259                1800.0  Metan/Propan       Manual       4400.0  \n",
       "37260                1500.0        Diesel       Manual       7000.0  \n",
       "37261                1500.0        Diesel       Manual       4500.0  \n",
       "37262                2000.0        Diesel       Manual       4000.0  \n",
       "37263                1500.0        Diesel       Manual       4000.0  \n",
       "\n",
       "[37264 rows x 9 columns]"
      ]
     },
     "execution_count": 3,
     "metadata": {},
     "output_type": "execute_result"
    }
   ],
   "source": [
    "df = pd.read_csv('https://raw.githubusercontent.com/dayekb/Basic_ML_Alg/main/cars_moldova_no_dup.csv', delimiter = ',')\n",
    "df"
   ]
  },
  {
   "cell_type": "raw",
   "id": "e89af91f-1913-464a-b944-cf89ad94de1a",
   "metadata": {},
   "source": [
    "Предобработка данных для работы обучения модели.\n",
    "\n",
    "Кодирование категориальных признаков и мастабирование входных данных и целевой переменной"
   ]
  },
  {
   "cell_type": "code",
   "execution_count": 4,
   "id": "7501f0d1-d9cb-4bde-99cd-80b7ac7e203a",
   "metadata": {},
   "outputs": [],
   "source": [
    "\n",
    "cat_columns = ['Make', 'Model', 'Style', 'Fuel_type', 'Transmission']\n",
    "num_columns = ['Year', 'Distance', 'Engine_capacity(cm3)', 'Price(euro)']\n",
    "\n",
    "question_dist = df[(df.Year <2021) & (df.Distance < 1100)]\n",
    "df = df.drop(question_dist.index)\n",
    "# Анализ и очистка данных\n",
    "# анализ гистограмм\n",
    "question_dist = df[(df.Distance > 1e6)]\n",
    "df = df.drop(question_dist.index)\n",
    "\n",
    "# здравый смысл\n",
    "question_engine = df[df[\"Engine_capacity(cm3)\"] < 200]\n",
    "df = df.drop(question_engine.index)\n",
    "\n",
    "# здравый смысл\n",
    "question_engine = df[df[\"Engine_capacity(cm3)\"] > 5000]\n",
    "df = df.drop(question_engine.index)\n",
    "\n",
    "# здравый смысл\n",
    "question_price = df[(df[\"Price(euro)\"] < 101)]\n",
    "df = df.drop(question_price.index)\n",
    "\n",
    "# анализ гистограмм\n",
    "question_price = df[df[\"Price(euro)\"] > 1e5]\n",
    "df = df.drop(question_price.index)\n",
    "\n",
    "#анализ гистограмм\n",
    "question_year = df[df.Year < 1971]\n",
    "df = df.drop(question_year.index)\n",
    "\n",
    "df = df.reset_index(drop=True)  # обновим индексы в датафрейме DF. если бы мы прописали drop = False, то была бы еще одна колонка - старые индексы\n",
    "# Разделение данных на признаки и целевую переменную\n",
    "\n",
    "\n",
    "# Предварительная обработка категориальных данных\n",
    "# Порядковое кодирование. Обучение, трансформация и упаковка в df\n",
    "\n",
    "ordinal = OrdinalEncoder()\n",
    "ordinal.fit(df[cat_columns]);\n",
    "Ordinal_encoded = ordinal.transform(df[cat_columns])\n",
    "df_ordinal = pd.DataFrame(Ordinal_encoded, columns=cat_columns)\n",
    "df[cat_columns] = df_ordinal[cat_columns]"
   ]
  },
  {
   "cell_type": "code",
   "execution_count": 5,
   "id": "70e9cf0a-1ae6-40ca-9ac2-44d439dcc007",
   "metadata": {},
   "outputs": [],
   "source": [
    "X,y = df.drop(columns = ['Price(euro)']), df['Price(euro)']\n",
    "scaler = StandardScaler()\n",
    "power_trans = PowerTransformer()\n",
    "X_scale = scaler.fit_transform(X.values)\n",
    "\n",
    "Y_scale = power_trans.fit_transform(y.values.reshape(-1,1))"
   ]
  },
  {
   "cell_type": "code",
   "execution_count": 6,
   "id": "84997ae9-3872-4040-85b5-f8c64663d8d4",
   "metadata": {},
   "outputs": [],
   "source": [
    "features_names = X.columns.to_list()"
   ]
  },
  {
   "cell_type": "code",
   "execution_count": 7,
   "id": "b336c5b3-02a8-49e5-954a-82e56bc3f433",
   "metadata": {},
   "outputs": [],
   "source": [
    "# разбиваем на тестовую и валидационную выборки\n",
    "X_train, X_val, y_train, y_val = train_test_split(X_scale, Y_scale,\n",
    "                                                  test_size=0.3,\n",
    "                                                  random_state=42)"
   ]
  },
  {
   "cell_type": "markdown",
   "id": "78e3ab42-051f-4cbb-8171-d93332ac1c88",
   "metadata": {},
   "source": [
    "### Обучение линейной регрессии"
   ]
  },
  {
   "cell_type": "code",
   "execution_count": 8,
   "id": "47d79259-0670-4f97-b514-40b5a85807a7",
   "metadata": {},
   "outputs": [
    {
     "name": "stdout",
     "output_type": "stream",
     "text": [
      "R^2 =  0.709000034399146\n"
     ]
    },
    {
     "name": "stderr",
     "output_type": "stream",
     "text": [
      "C:\\Users\\333\\anaconda3\\envs\\numpy\\Lib\\site-packages\\sklearn\\utils\\validation.py:1300: DataConversionWarning: A column-vector y was passed when a 1d array was expected. Please change the shape of y to (n_samples, ), for example using ravel().\n",
      "  y = column_or_1d(y, warn=True)\n"
     ]
    }
   ],
   "source": [
    "model = SGDRegressor()\n",
    "model.fit(X_train, y_train)\n",
    "r = model.score(X_train, y_train)\n",
    "print('R^2 = ', r) # Метрика R^2"
   ]
  },
  {
   "cell_type": "markdown",
   "id": "b53993e7-4141-4b9a-96c2-9a49632e0dd1",
   "metadata": {},
   "source": [
    "### Оценим ошибку модели"
   ]
  },
  {
   "cell_type": "code",
   "execution_count": 9,
   "id": "72fc0c8e-465e-4b5c-80a6-6d469da72c9b",
   "metadata": {},
   "outputs": [
    {
     "name": "stdout",
     "output_type": "stream",
     "text": [
      "Средняя ошибка прогноза модели = 5782.385548826986\n"
     ]
    }
   ],
   "source": [
    "y_pred = model.predict(X_val)\n",
    "y_price = power_trans.inverse_transform(y_pred.reshape(-1,1))\n",
    "print(\"Средняя ошибка прогноза модели =\", root_mean_squared_error(power_trans.inverse_transform(y_val.reshape(-1,1)), y_price))"
   ]
  },
  {
   "cell_type": "code",
   "execution_count": 10,
   "id": "1ff279a1-b841-47cb-9063-de3e5399d2fd",
   "metadata": {},
   "outputs": [
    {
     "data": {
      "text/plain": [
       "<matplotlib.legend.Legend at 0x2a634424ce0>"
      ]
     },
     "execution_count": 10,
     "metadata": {},
     "output_type": "execute_result"
    },
    {
     "data": {
      "image/png": "[encoded data removed]",
      "text/plain": [
       "<Figure size 1800x700 with 2 Axes>"
      ]
     },
     "metadata": {},
     "output_type": "display_data"
    }
   ],
   "source": [
    "y = power_trans.inverse_transform(y_val.reshape(-1,1))\n",
    "fig,ax = plt.subplots(1,2, dpi = 100, figsize=(18,7))\n",
    "ax[0].scatter( y, y_price,)\n",
    "ax[0].set_xlabel('Price')\n",
    "ax[0].set_ylabel('Прогноз модели')\n",
    "\n",
    "ax[1].hist( y,50)\n",
    "ax[1].hist( y_price,50, label='Прогноз')\n",
    "\n",
    "ax[1].set_xlabel('Price')\n",
    "ax[1].set_ylabel('N')\n",
    "ax[1].legend()"
   ]
  },
  {
   "cell_type": "code",
   "execution_count": null,
   "id": "e929d252-46d5-459f-b02b-c5bef0dd4264",
   "metadata": {},
   "outputs": [],
   "source": [
    "##Сохраним модель\n",
    "with open('model_lr.pkl', 'wb') as file:\n",
    "    pickle.dump(model, file)"
   ]
  },
  {
   "cell_type": "markdown",
   "id": "3d8c549b-d6e4-4eff-9edc-55cdb84f56e8",
   "metadata": {},
   "source": [
    "### Задание. Лабораторная работа №1"
   ]
  },
  {
   "cell_type": "markdown",
   "id": "9454d2ad-1b1e-4fb3-9b70-bedff787f2f3",
   "metadata": {},
   "source": [
    "1.Выполнить установку и настройку необходимых библитек для работы с ML. Выполнить ячейки ноутбука (5 баллов)\n",
    "\n",
    "2.Произвести обучение одной модели (Нейронной сети или линейнойной регрессии) (5 баллов)\n",
    "\n",
    "За обучение модели на своих данных +5 баллов "
   ]
  },
  {
   "cell_type": "code",
   "execution_count": null,
   "id": "988c2e11-e440-4fc4-a905-8132854c7221",
   "metadata": {},
   "outputs": [],
   "source": [
    "# В качестве данных для обучения выбрал датасет с соревнования на Kaggle 'Regression of Used Car Prices'\n",
    "# Использовать буду линейную регрессию "
   ]
  },
  {
   "cell_type": "markdown",
   "id": "7b6018ec",
   "metadata": {},
   "source": [
    "# Работу выполнил Владислав Калашников (АТ-01)"
   ]
  },
  {
   "cell_type": "markdown",
   "id": "6a5625b9-3f98-4452-a908-4901e1a10762",
   "metadata": {},
   "source": [
    "# Импорт необходимых библиотек"
   ]
  },
  {
   "cell_type": "code",
   "execution_count": 25,
   "id": "b613414b-4c63-44a6-ade1-7c10c25a7eef",
   "metadata": {},
   "outputs": [],
   "source": [
    "import pandas as pd\n",
    "\n",
    "import matplotlib.pyplot as plt\n",
    "import seaborn as sns\n",
    "\n",
    "from sklearn.linear_model import SGDRegressor\n",
    "from sklearn.impute import KNNImputer\n",
    "from sklearn.preprocessing import StandardScaler, OrdinalEncoder, PowerTransformer\n",
    "from sklearn.model_selection import train_test_split\n",
    "from sklearn.metrics import root_mean_squared_error\n",
    "\n",
    "import pickle"
   ]
  },
  {
   "cell_type": "markdown",
   "id": "2b1ee070-00c5-4f35-ad03-26ced5dfec53",
   "metadata": {},
   "source": [
    "# Подготовка данных"
   ]
  },
  {
   "cell_type": "code",
   "execution_count": null,
   "id": "0daf9940-12c4-45c6-a554-a536a0e407f5",
   "metadata": {},
   "outputs": [
    {
     "data": {
      "text/html": [
       "<div>\n",
       "<style scoped>\n",
       "    .dataframe tbody tr th:only-of-type {\n",
       "        vertical-align: middle;\n",
       "    }\n",
       "\n",
       "    .dataframe tbody tr th {\n",
       "        vertical-align: top;\n",
       "    }\n",
       "\n",
       "    .dataframe thead th {\n",
       "        text-align: right;\n",
       "    }\n",
       "</style>\n",
       "<table border=\"1\" class=\"dataframe\">\n",
       "  <thead>\n",
       "    <tr style=\"text-align: right;\">\n",
       "      <th></th>\n",
       "      <th>id</th>\n",
       "      <th>model_year</th>\n",
       "      <th>milage</th>\n",
       "      <th>price</th>\n",
       "    </tr>\n",
       "  </thead>\n",
       "  <tbody>\n",
       "    <tr>\n",
       "      <th>count</th>\n",
       "      <td>188533.000000</td>\n",
       "      <td>188533.000000</td>\n",
       "      <td>188533.000000</td>\n",
       "      <td>1.885330e+05</td>\n",
       "    </tr>\n",
       "    <tr>\n",
       "      <th>mean</th>\n",
       "      <td>94266.000000</td>\n",
       "      <td>2015.829998</td>\n",
       "      <td>65705.295174</td>\n",
       "      <td>4.387802e+04</td>\n",
       "    </tr>\n",
       "    <tr>\n",
       "      <th>std</th>\n",
       "      <td>54424.933488</td>\n",
       "      <td>5.660967</td>\n",
       "      <td>49798.158076</td>\n",
       "      <td>7.881952e+04</td>\n",
       "    </tr>\n",
       "    <tr>\n",
       "      <th>min</th>\n",
       "      <td>0.000000</td>\n",
       "      <td>1974.000000</td>\n",
       "      <td>100.000000</td>\n",
       "      <td>2.000000e+03</td>\n",
       "    </tr>\n",
       "    <tr>\n",
       "      <th>25%</th>\n",
       "      <td>47133.000000</td>\n",
       "      <td>2013.000000</td>\n",
       "      <td>24115.000000</td>\n",
       "      <td>1.700000e+04</td>\n",
       "    </tr>\n",
       "    <tr>\n",
       "      <th>50%</th>\n",
       "      <td>94266.000000</td>\n",
       "      <td>2017.000000</td>\n",
       "      <td>57785.000000</td>\n",
       "      <td>3.082500e+04</td>\n",
       "    </tr>\n",
       "    <tr>\n",
       "      <th>75%</th>\n",
       "      <td>141399.000000</td>\n",
       "      <td>2020.000000</td>\n",
       "      <td>95400.000000</td>\n",
       "      <td>4.990000e+04</td>\n",
       "    </tr>\n",
       "    <tr>\n",
       "      <th>max</th>\n",
       "      <td>188532.000000</td>\n",
       "      <td>2024.000000</td>\n",
       "      <td>405000.000000</td>\n",
       "      <td>2.954083e+06</td>\n",
       "    </tr>\n",
       "  </tbody>\n",
       "</table>\n",
       "</div>"
      ],
      "text/plain": [
       "                  id     model_year         milage         price\n",
       "count  188533.000000  188533.000000  188533.000000  1.885330e+05\n",
       "mean    94266.000000    2015.829998   65705.295174  4.387802e+04\n",
       "std     54424.933488       5.660967   49798.158076  7.881952e+04\n",
       "min         0.000000    1974.000000     100.000000  2.000000e+03\n",
       "25%     47133.000000    2013.000000   24115.000000  1.700000e+04\n",
       "50%     94266.000000    2017.000000   57785.000000  3.082500e+04\n",
       "75%    141399.000000    2020.000000   95400.000000  4.990000e+04\n",
       "max    188532.000000    2024.000000  405000.000000  2.954083e+06"
      ]
     },
     "execution_count": 4,
     "metadata": {},
     "output_type": "execute_result"
    }
   ],
   "source": [
    "cars = pd.read_csv('https://raw.githubusercontent.com/cybertabyretka/PMO_Datasets/main/train.csv')\n",
    "cars.describe()"
   ]
  },
  {
   "cell_type": "code",
   "execution_count": 5,
   "id": "8c8aff24-f920-41d1-b69f-22a0dec24df5",
   "metadata": {},
   "outputs": [
    {
     "data": {
      "text/html": [
       "<div>\n",
       "<style scoped>\n",
       "    .dataframe tbody tr th:only-of-type {\n",
       "        vertical-align: middle;\n",
       "    }\n",
       "\n",
       "    .dataframe tbody tr th {\n",
       "        vertical-align: top;\n",
       "    }\n",
       "\n",
       "    .dataframe thead th {\n",
       "        text-align: right;\n",
       "    }\n",
       "</style>\n",
       "<table border=\"1\" class=\"dataframe\">\n",
       "  <thead>\n",
       "    <tr style=\"text-align: right;\">\n",
       "      <th></th>\n",
       "      <th>id</th>\n",
       "      <th>brand</th>\n",
       "      <th>model</th>\n",
       "      <th>model_year</th>\n",
       "      <th>milage</th>\n",
       "      <th>fuel_type</th>\n",
       "      <th>engine</th>\n",
       "      <th>transmission</th>\n",
       "      <th>ext_col</th>\n",
       "      <th>int_col</th>\n",
       "      <th>accident</th>\n",
       "      <th>clean_title</th>\n",
       "      <th>price</th>\n",
       "    </tr>\n",
       "  </thead>\n",
       "  <tbody>\n",
       "    <tr>\n",
       "      <th>0</th>\n",
       "      <td>0</td>\n",
       "      <td>MINI</td>\n",
       "      <td>Cooper S Base</td>\n",
       "      <td>2007</td>\n",
       "      <td>213000</td>\n",
       "      <td>Gasoline</td>\n",
       "      <td>172.0HP 1.6L 4 Cylinder Engine Gasoline Fuel</td>\n",
       "      <td>A/T</td>\n",
       "      <td>Yellow</td>\n",
       "      <td>Gray</td>\n",
       "      <td>None reported</td>\n",
       "      <td>Yes</td>\n",
       "      <td>4200</td>\n",
       "    </tr>\n",
       "    <tr>\n",
       "      <th>1</th>\n",
       "      <td>1</td>\n",
       "      <td>Lincoln</td>\n",
       "      <td>LS V8</td>\n",
       "      <td>2002</td>\n",
       "      <td>143250</td>\n",
       "      <td>Gasoline</td>\n",
       "      <td>252.0HP 3.9L 8 Cylinder Engine Gasoline Fuel</td>\n",
       "      <td>A/T</td>\n",
       "      <td>Silver</td>\n",
       "      <td>Beige</td>\n",
       "      <td>At least 1 accident or damage reported</td>\n",
       "      <td>Yes</td>\n",
       "      <td>4999</td>\n",
       "    </tr>\n",
       "    <tr>\n",
       "      <th>2</th>\n",
       "      <td>2</td>\n",
       "      <td>Chevrolet</td>\n",
       "      <td>Silverado 2500 LT</td>\n",
       "      <td>2002</td>\n",
       "      <td>136731</td>\n",
       "      <td>E85 Flex Fuel</td>\n",
       "      <td>320.0HP 5.3L 8 Cylinder Engine Flex Fuel Capab...</td>\n",
       "      <td>A/T</td>\n",
       "      <td>Blue</td>\n",
       "      <td>Gray</td>\n",
       "      <td>None reported</td>\n",
       "      <td>Yes</td>\n",
       "      <td>13900</td>\n",
       "    </tr>\n",
       "    <tr>\n",
       "      <th>3</th>\n",
       "      <td>3</td>\n",
       "      <td>Genesis</td>\n",
       "      <td>G90 5.0 Ultimate</td>\n",
       "      <td>2017</td>\n",
       "      <td>19500</td>\n",
       "      <td>Gasoline</td>\n",
       "      <td>420.0HP 5.0L 8 Cylinder Engine Gasoline Fuel</td>\n",
       "      <td>Transmission w/Dual Shift Mode</td>\n",
       "      <td>Black</td>\n",
       "      <td>Black</td>\n",
       "      <td>None reported</td>\n",
       "      <td>Yes</td>\n",
       "      <td>45000</td>\n",
       "    </tr>\n",
       "    <tr>\n",
       "      <th>4</th>\n",
       "      <td>4</td>\n",
       "      <td>Mercedes-Benz</td>\n",
       "      <td>Metris Base</td>\n",
       "      <td>2021</td>\n",
       "      <td>7388</td>\n",
       "      <td>Gasoline</td>\n",
       "      <td>208.0HP 2.0L 4 Cylinder Engine Gasoline Fuel</td>\n",
       "      <td>7-Speed A/T</td>\n",
       "      <td>Black</td>\n",
       "      <td>Beige</td>\n",
       "      <td>None reported</td>\n",
       "      <td>Yes</td>\n",
       "      <td>97500</td>\n",
       "    </tr>\n",
       "    <tr>\n",
       "      <th>5</th>\n",
       "      <td>5</td>\n",
       "      <td>Audi</td>\n",
       "      <td>A6 2.0T Sport</td>\n",
       "      <td>2018</td>\n",
       "      <td>40950</td>\n",
       "      <td>Gasoline</td>\n",
       "      <td>252.0HP 2.0L 4 Cylinder Engine Gasoline Fuel</td>\n",
       "      <td>A/T</td>\n",
       "      <td>White</td>\n",
       "      <td>–</td>\n",
       "      <td>None reported</td>\n",
       "      <td>Yes</td>\n",
       "      <td>29950</td>\n",
       "    </tr>\n",
       "    <tr>\n",
       "      <th>6</th>\n",
       "      <td>6</td>\n",
       "      <td>Audi</td>\n",
       "      <td>A8 L 3.0T</td>\n",
       "      <td>2016</td>\n",
       "      <td>62200</td>\n",
       "      <td>Gasoline</td>\n",
       "      <td>333.0HP 3.0L V6 Cylinder Engine Gasoline Fuel</td>\n",
       "      <td>8-Speed A/T</td>\n",
       "      <td>Black</td>\n",
       "      <td>Black</td>\n",
       "      <td>None reported</td>\n",
       "      <td>Yes</td>\n",
       "      <td>28500</td>\n",
       "    </tr>\n",
       "    <tr>\n",
       "      <th>7</th>\n",
       "      <td>7</td>\n",
       "      <td>Chevrolet</td>\n",
       "      <td>Silverado 1500 1LZ</td>\n",
       "      <td>2016</td>\n",
       "      <td>102604</td>\n",
       "      <td>E85 Flex Fuel</td>\n",
       "      <td>355.0HP 5.3L 8 Cylinder Engine Flex Fuel Capab...</td>\n",
       "      <td>A/T</td>\n",
       "      <td>White</td>\n",
       "      <td>Gray</td>\n",
       "      <td>None reported</td>\n",
       "      <td>Yes</td>\n",
       "      <td>12500</td>\n",
       "    </tr>\n",
       "    <tr>\n",
       "      <th>8</th>\n",
       "      <td>8</td>\n",
       "      <td>Ford</td>\n",
       "      <td>F-150 XLT</td>\n",
       "      <td>2020</td>\n",
       "      <td>38352</td>\n",
       "      <td>Gasoline</td>\n",
       "      <td>2.7L V6 24V PDI DOHC Twin Turbo</td>\n",
       "      <td>10-Speed Automatic</td>\n",
       "      <td>Snowflake White Pearl Metallic</td>\n",
       "      <td>Black</td>\n",
       "      <td>None reported</td>\n",
       "      <td>Yes</td>\n",
       "      <td>62890</td>\n",
       "    </tr>\n",
       "    <tr>\n",
       "      <th>9</th>\n",
       "      <td>9</td>\n",
       "      <td>BMW</td>\n",
       "      <td>M4 Base</td>\n",
       "      <td>2015</td>\n",
       "      <td>74850</td>\n",
       "      <td>Gasoline</td>\n",
       "      <td>425.0HP 3.0L Straight 6 Cylinder Engine Gasoli...</td>\n",
       "      <td>Transmission w/Dual Shift Mode</td>\n",
       "      <td>Black</td>\n",
       "      <td>Blue</td>\n",
       "      <td>None reported</td>\n",
       "      <td>Yes</td>\n",
       "      <td>4000</td>\n",
       "    </tr>\n",
       "  </tbody>\n",
       "</table>\n",
       "</div>"
      ],
      "text/plain": [
       "   id          brand               model  model_year  milage      fuel_type  \\\n",
       "0   0           MINI       Cooper S Base        2007  213000       Gasoline   \n",
       "1   1        Lincoln               LS V8        2002  143250       Gasoline   \n",
       "2   2      Chevrolet   Silverado 2500 LT        2002  136731  E85 Flex Fuel   \n",
       "3   3        Genesis    G90 5.0 Ultimate        2017   19500       Gasoline   \n",
       "4   4  Mercedes-Benz         Metris Base        2021    7388       Gasoline   \n",
       "5   5           Audi       A6 2.0T Sport        2018   40950       Gasoline   \n",
       "6   6           Audi           A8 L 3.0T        2016   62200       Gasoline   \n",
       "7   7      Chevrolet  Silverado 1500 1LZ        2016  102604  E85 Flex Fuel   \n",
       "8   8           Ford           F-150 XLT        2020   38352       Gasoline   \n",
       "9   9            BMW             M4 Base        2015   74850       Gasoline   \n",
       "\n",
       "                                              engine  \\\n",
       "0       172.0HP 1.6L 4 Cylinder Engine Gasoline Fuel   \n",
       "1       252.0HP 3.9L 8 Cylinder Engine Gasoline Fuel   \n",
       "2  320.0HP 5.3L 8 Cylinder Engine Flex Fuel Capab...   \n",
       "3       420.0HP 5.0L 8 Cylinder Engine Gasoline Fuel   \n",
       "4       208.0HP 2.0L 4 Cylinder Engine Gasoline Fuel   \n",
       "5       252.0HP 2.0L 4 Cylinder Engine Gasoline Fuel   \n",
       "6      333.0HP 3.0L V6 Cylinder Engine Gasoline Fuel   \n",
       "7  355.0HP 5.3L 8 Cylinder Engine Flex Fuel Capab...   \n",
       "8                    2.7L V6 24V PDI DOHC Twin Turbo   \n",
       "9  425.0HP 3.0L Straight 6 Cylinder Engine Gasoli...   \n",
       "\n",
       "                     transmission                         ext_col int_col  \\\n",
       "0                             A/T                          Yellow    Gray   \n",
       "1                             A/T                          Silver   Beige   \n",
       "2                             A/T                            Blue    Gray   \n",
       "3  Transmission w/Dual Shift Mode                           Black   Black   \n",
       "4                     7-Speed A/T                           Black   Beige   \n",
       "5                             A/T                           White       –   \n",
       "6                     8-Speed A/T                           Black   Black   \n",
       "7                             A/T                           White    Gray   \n",
       "8              10-Speed Automatic  Snowflake White Pearl Metallic   Black   \n",
       "9  Transmission w/Dual Shift Mode                           Black    Blue   \n",
       "\n",
       "                                 accident clean_title  price  \n",
       "0                           None reported         Yes   4200  \n",
       "1  At least 1 accident or damage reported         Yes   4999  \n",
       "2                           None reported         Yes  13900  \n",
       "3                           None reported         Yes  45000  \n",
       "4                           None reported         Yes  97500  \n",
       "5                           None reported         Yes  29950  \n",
       "6                           None reported         Yes  28500  \n",
       "7                           None reported         Yes  12500  \n",
       "8                           None reported         Yes  62890  \n",
       "9                           None reported         Yes   4000  "
      ]
     },
     "execution_count": 5,
     "metadata": {},
     "output_type": "execute_result"
    }
   ],
   "source": [
    "cars.head(10)"
   ]
  },
  {
   "cell_type": "code",
   "execution_count": 6,
   "id": "77070886-dc38-4766-8aed-23bd67d5bb9d",
   "metadata": {},
   "outputs": [],
   "source": [
    "cars = cars.drop(columns=['id'])"
   ]
  },
  {
   "cell_type": "code",
   "execution_count": 7,
   "id": "2a999415-e8ca-4cdf-99c5-eae88539357b",
   "metadata": {},
   "outputs": [
    {
     "data": {
      "text/plain": [
       "brand               0\n",
       "model               0\n",
       "model_year          0\n",
       "milage              0\n",
       "fuel_type        5083\n",
       "engine              0\n",
       "transmission        0\n",
       "ext_col             0\n",
       "int_col             0\n",
       "accident         2452\n",
       "clean_title     21419\n",
       "price               0\n",
       "dtype: int64"
      ]
     },
     "execution_count": 7,
     "metadata": {},
     "output_type": "execute_result"
    }
   ],
   "source": [
    "cars.isnull().sum()"
   ]
  },
  {
   "cell_type": "code",
   "execution_count": 8,
   "id": "e356b8bf-3618-4b75-8cd0-d7f68904a755",
   "metadata": {},
   "outputs": [
    {
     "name": "stdout",
     "output_type": "stream",
     "text": [
      "<class 'pandas.core.frame.DataFrame'>\n",
      "RangeIndex: 188533 entries, 0 to 188532\n",
      "Data columns (total 12 columns):\n",
      " #   Column        Non-Null Count   Dtype \n",
      "---  ------        --------------   ----- \n",
      " 0   brand         188533 non-null  object\n",
      " 1   model         188533 non-null  object\n",
      " 2   model_year    188533 non-null  int64 \n",
      " 3   milage        188533 non-null  int64 \n",
      " 4   fuel_type     183450 non-null  object\n",
      " 5   engine        188533 non-null  object\n",
      " 6   transmission  188533 non-null  object\n",
      " 7   ext_col       188533 non-null  object\n",
      " 8   int_col       188533 non-null  object\n",
      " 9   accident      186081 non-null  object\n",
      " 10  clean_title   167114 non-null  object\n",
      " 11  price         188533 non-null  int64 \n",
      "dtypes: int64(3), object(9)\n",
      "memory usage: 17.3+ MB\n"
     ]
    }
   ],
   "source": [
    "cars.info()"
   ]
  },
  {
   "cell_type": "code",
   "execution_count": null,
   "id": "1107fad0-98d0-4b6c-9522-28915f4f236f",
   "metadata": {},
   "outputs": [],
   "source": [
    "# Проверяю влияние различных столбцов на цену"
   ]
  },
  {
   "cell_type": "code",
   "execution_count": 9,
   "id": "e82df93f-e2da-4211-ba45-4bb52f205059",
   "metadata": {},
   "outputs": [
    {
     "data": {
      "image/png": "[encoded data removed]",
      "text/plain": [
       "<Figure size 1000x500 with 1 Axes>"
      ]
     },
     "metadata": {},
     "output_type": "display_data"
    }
   ],
   "source": [
    "plt.figure(figsize=(10, 5))\n",
    "sns.barplot(x='brand', y='price', data=cars, errorbar=None)\n",
    "plt.xticks(rotation=90)\n",
    "plt.show()"
   ]
  },
  {
   "cell_type": "code",
   "execution_count": 10,
   "id": "574b3aab-135e-4119-932b-785a590e53a7",
   "metadata": {},
   "outputs": [
    {
     "data": {
      "image/png": "[encoded data removed]",
      "text/plain": [
       "<Figure size 1000x500 with 1 Axes>"
      ]
     },
     "metadata": {},
     "output_type": "display_data"
    }
   ],
   "source": [
    "plt.figure(figsize=(10, 5))\n",
    "sns.barplot(x='fuel_type', y='price', data=cars, errorbar=None)\n",
    "plt.xticks(rotation=90)\n",
    "plt.show()"
   ]
  },
  {
   "cell_type": "code",
   "execution_count": 11,
   "id": "bd517043-170b-4b84-bba0-645eea212614",
   "metadata": {},
   "outputs": [
    {
     "data": {
      "image/png": "[encoded data removed]",
      "text/plain": [
       "<Figure size 1000x500 with 1 Axes>"
      ]
     },
     "metadata": {},
     "output_type": "display_data"
    }
   ],
   "source": [
    "plt.figure(figsize=(10, 5))\n",
    "sns.barplot(x='accident', y='price', data=cars, errorbar=None)\n",
    "plt.show()"
   ]
  },
  {
   "cell_type": "code",
   "execution_count": null,
   "id": "f40ebc5a-e72f-4a93-83cb-4b4185c32b4d",
   "metadata": {},
   "outputs": [],
   "source": [
    "# Избавляюсь от строк с пропущенными значениями"
   ]
  },
  {
   "cell_type": "code",
   "execution_count": 12,
   "id": "a06b237e-82c9-4374-8b39-2d950c60a8c7",
   "metadata": {},
   "outputs": [],
   "source": [
    "cars_clear = cars.dropna(subset=('accident', 'fuel_type'))"
   ]
  },
  {
   "cell_type": "code",
   "execution_count": 13,
   "id": "81d847ad-bca4-4eef-abbf-1e21456ae9b9",
   "metadata": {},
   "outputs": [
    {
     "data": {
      "text/plain": [
       "brand               0\n",
       "model               0\n",
       "model_year          0\n",
       "milage              0\n",
       "fuel_type           0\n",
       "engine              0\n",
       "transmission        0\n",
       "ext_col             0\n",
       "int_col             0\n",
       "accident            0\n",
       "clean_title     18457\n",
       "price               0\n",
       "dtype: int64"
      ]
     },
     "execution_count": 13,
     "metadata": {},
     "output_type": "execute_result"
    }
   ],
   "source": [
    "cars_clear.isnull().sum()"
   ]
  },
  {
   "cell_type": "code",
   "execution_count": 14,
   "id": "33f32434-bfdc-4ec8-96ab-b27bd41cc2c7",
   "metadata": {},
   "outputs": [],
   "source": [
    "cars_clear.loc[cars_clear['clean_title'] != 'Yes', 'clean_title'] = 'No'"
   ]
  },
  {
   "cell_type": "code",
   "execution_count": 15,
   "id": "d035eaf5-bc70-4e24-bed5-0ecd6a9a54ba",
   "metadata": {},
   "outputs": [
    {
     "data": {
      "text/plain": [
       "brand           0\n",
       "model           0\n",
       "model_year      0\n",
       "milage          0\n",
       "fuel_type       0\n",
       "engine          0\n",
       "transmission    0\n",
       "ext_col         0\n",
       "int_col         0\n",
       "accident        0\n",
       "clean_title     0\n",
       "price           0\n",
       "dtype: int64"
      ]
     },
     "execution_count": 15,
     "metadata": {},
     "output_type": "execute_result"
    }
   ],
   "source": [
    "cars_clear.isnull().sum()"
   ]
  },
  {
   "cell_type": "code",
   "execution_count": null,
   "id": "14df6d70-abdd-4f57-95b4-17b299c98fe0",
   "metadata": {},
   "outputs": [],
   "source": [
    "# Перевожу строки в int"
   ]
  },
  {
   "cell_type": "code",
   "execution_count": 16,
   "id": "f8c905da-f64e-4031-b84d-970c67a3ea87",
   "metadata": {},
   "outputs": [],
   "source": [
    "ordinal = OrdinalEncoder()\n",
    "ordinal.fit(cars_clear);\n",
    "ordinal_encoded = ordinal.transform(cars_clear)\n",
    "cars_clear = pd.DataFrame(ordinal_encoded, columns=cars_clear.columns)"
   ]
  },
  {
   "cell_type": "code",
   "execution_count": 17,
   "id": "8407b1bf-e4ff-499a-b198-7859e854a6ac",
   "metadata": {},
   "outputs": [
    {
     "data": {
      "image/png": "[encoded data removed]",
      "text/plain": [
       "<Figure size 640x480 with 1 Axes>"
      ]
     },
     "metadata": {},
     "output_type": "display_data"
    }
   ],
   "source": [
    "x, y = cars_clear.drop(columns = ['price']), cars_clear['price']\n",
    "\n",
    "plt.hist(y)\n",
    "\n",
    "scaler = StandardScaler()\n",
    "power_trans = PowerTransformer()\n",
    "X_scale = scaler.fit_transform(x.values)\n",
    "\n",
    "Y_scale = power_trans.fit_transform(y.values.reshape(-1,1))"
   ]
  },
  {
   "cell_type": "code",
   "execution_count": 18,
   "id": "956baafd-3434-4781-8708-34d47f339355",
   "metadata": {},
   "outputs": [
    {
     "data": {
      "text/plain": [
       "(array([ 2452.,  8038., 14569., 20769., 23552., 24701., 21946., 24389.,\n",
       "        24140., 16511.]),\n",
       " array([-2.46842279, -2.04421396, -1.62000512, -1.19579629, -0.77158746,\n",
       "        -0.34737863,  0.0768302 ,  0.50103903,  0.92524787,  1.3494567 ,\n",
       "         1.77366553]),\n",
       " <BarContainer object of 10 artists>)"
      ]
     },
     "execution_count": 18,
     "metadata": {},
     "output_type": "execute_result"
    },
    {
     "data": {
      "image/png": "[encoded data removed]",
      "text/plain": [
       "<Figure size 640x480 with 1 Axes>"
      ]
     },
     "metadata": {},
     "output_type": "display_data"
    }
   ],
   "source": [
    "plt.hist(Y_scale)"
   ]
  },
  {
   "cell_type": "code",
   "execution_count": 19,
   "id": "60e5dda7-00a0-4ec5-b4c5-58642d2d825b",
   "metadata": {},
   "outputs": [],
   "source": [
    "X_train, X_test, y_train, y_test = train_test_split(X_scale, Y_scale,\n",
    "                                                    test_size=0.3,\n",
    "                                                    random_state=42)"
   ]
  },
  {
   "cell_type": "markdown",
   "id": "c17f956a-f7e9-4983-82c9-e875e0f5d73b",
   "metadata": {},
   "source": [
    "# Обучение модели"
   ]
  },
  {
   "cell_type": "code",
   "execution_count": 20,
   "id": "dced8286-11af-4a5d-9890-ec03c82be828",
   "metadata": {},
   "outputs": [],
   "source": [
    "SGDRegressor_parameters = {\n",
    "    'max_iter': 10000,\n",
    "    'verbose': 3,\n",
    "    'random_state': 42\n",
    "}"
   ]
  },
  {
   "cell_type": "code",
   "execution_count": 21,
   "id": "1eb03d1d-c7f3-4691-9333-5eaee8620852",
   "metadata": {},
   "outputs": [
    {
     "name": "stdout",
     "output_type": "stream",
     "text": [
      "-- Epoch 1\n",
      "Norm: 0.59, NNZs: 11, Bias: -0.004488, T: 126746, Avg. loss: 0.166414\n",
      "Total training time: 0.03 seconds.\n",
      "-- Epoch 2\n",
      "Norm: 0.59, NNZs: 11, Bias: 0.000934, T: 253492, Avg. loss: 0.165991\n",
      "Total training time: 0.06 seconds.\n",
      "-- Epoch 3\n",
      "Norm: 0.59, NNZs: 11, Bias: 0.007271, T: 380238, Avg. loss: 0.165915\n",
      "Total training time: 0.08 seconds.\n",
      "-- Epoch 4\n",
      "Norm: 0.59, NNZs: 11, Bias: -0.005321, T: 506984, Avg. loss: 0.165847\n",
      "Total training time: 0.11 seconds.\n",
      "-- Epoch 5\n",
      "Norm: 0.60, NNZs: 11, Bias: 0.023627, T: 633730, Avg. loss: 0.165832\n",
      "Total training time: 0.13 seconds.\n",
      "-- Epoch 6\n",
      "Norm: 0.60, NNZs: 11, Bias: -0.000314, T: 760476, Avg. loss: 0.165798\n",
      "Total training time: 0.15 seconds.\n",
      "Convergence after 6 epochs took 0.15 seconds\n",
      "R^2 =  0.6687627937369212\n"
     ]
    },
    {
     "name": "stderr",
     "output_type": "stream",
     "text": [
      "C:\\Users\\333\\anaconda3\\envs\\numpy\\Lib\\site-packages\\sklearn\\utils\\validation.py:1300: DataConversionWarning: A column-vector y was passed when a 1d array was expected. Please change the shape of y to (n_samples, ), for example using ravel().\n",
      "  y = column_or_1d(y, warn=True)\n"
     ]
    }
   ],
   "source": [
    "model = SGDRegressor(**SGDRegressor_parameters)\n",
    "model.fit(X_train, y_train)\n",
    "r = model.score(X_train, y_train)\n",
    "print('R^2 = ', r)"
   ]
  },
  {
   "cell_type": "markdown",
   "id": "49b388b3-8b1a-4832-b7a7-7bbfdddc5317",
   "metadata": {},
   "source": [
    "# Проверка модели"
   ]
  },
  {
   "cell_type": "code",
   "execution_count": 22,
   "id": "7c88f4f6-8015-40ff-b56b-22d01d3c9532",
   "metadata": {},
   "outputs": [
    {
     "name": "stdout",
     "output_type": "stream",
     "text": [
      "Средняя ошибка прогноза модели = 254.21012390795403\n"
     ]
    }
   ],
   "source": [
    "y_pred = model.predict(X_test)\n",
    "y_price = power_trans.inverse_transform(y_pred.reshape(-1,1))\n",
    "print(\"Средняя ошибка прогноза модели =\", root_mean_squared_error(power_trans.inverse_transform(y_test.reshape(-1,1)), y_price))"
   ]
  },
  {
   "cell_type": "code",
   "execution_count": 23,
   "id": "751444c1-b843-42e4-8d00-483909ed2926",
   "metadata": {},
   "outputs": [
    {
     "data": {
      "text/plain": [
       "<matplotlib.legend.Legend at 0x219d9e01c10>"
      ]
     },
     "execution_count": 23,
     "metadata": {},
     "output_type": "execute_result"
    },
    {
     "data": {
      "image/png": "[encoded data removed]",
      "text/plain": [
       "<Figure size 1800x700 with 2 Axes>"
      ]
     },
     "metadata": {},
     "output_type": "display_data"
    }
   ],
   "source": [
    "y = power_trans.inverse_transform(y_test.reshape(-1,1))\n",
    "fig, ax = plt.subplots(1, 2, dpi=100, figsize=(18,7))\n",
    "ax[0].scatter(y, y_price)\n",
    "ax[0].set_xlabel('Price')\n",
    "ax[0].set_ylabel('Прогноз модели')\n",
    "\n",
    "ax[1].hist(y, 50)\n",
    "ax[1].hist(y_price, 50, label='Прогноз')\n",
    "\n",
    "ax[1].set_xlabel('Price')\n",
    "ax[1].set_ylabel('N')\n",
    "ax[1].legend()"
   ]
  },
  {
   "cell_type": "code",
   "execution_count": 26,
   "id": "4bd381b5-57e8-465c-99f0-12731c81f23f",
   "metadata": {},
   "outputs": [],
   "source": [
    "with open('model_lr.pkl', 'wb') as file:\n",
    "    pickle.dump(model, file)"
   ]
  }
 ],
 "metadata": {
  "kernelspec": {
   "display_name": "Python 3 (ipykernel)",
   "language": "python",
   "name": "python3"
  },
  "language_info": {
   "codemirror_mode": {
    "name": "ipython",
    "version": 3
   },
   "file_extension": ".py",
   "mimetype": "text/x-python",
   "name": "python",
   "nbconvert_exporter": "python",
   "pygments_lexer": "ipython3",
   "version": "3.12.2"
  }
 },
 "nbformat": 4,
 "nbformat_minor": 5
}
